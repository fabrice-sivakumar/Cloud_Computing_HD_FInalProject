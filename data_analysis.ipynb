{
 "cells": [
  {
   "cell_type": "markdown",
   "metadata": {},
   "source": [
    "# Data Analysis"
   ]
  },
  {
   "cell_type": "code",
   "execution_count": 19,
   "metadata": {},
   "outputs": [],
   "source": [
    "import os\n",
    "import pandas as pd\n",
    "import PIL\n",
    "from pathlib import Path\n",
    "from PIL import UnidentifiedImageError\n",
    "import matplotlib.pyplot as plt\n",
    "import matplotlib.image as mpimg\n"
   ]
  },
  {
   "cell_type": "code",
   "execution_count": 20,
   "metadata": {},
   "outputs": [
    {
     "data": {
      "text/plain": [
       "['00003aeb-ace5-43bf-9a0c-dc31a03e9cd2.jpg',\n",
       " '00070a23-9faf-4682-8243-59f307880f4b.jpg',\n",
       " '000d31f6-44b5-4758-8d86-c4fcfb234392.jpg',\n",
       " '001068a8-86c3-4029-a9d9-1e27015e7e64.jpg',\n",
       " '00143901-a14c-4600-960f-7747b4a3a8cd.jpg',\n",
       " '00149032-3dd6-426e-9bc0-d53032536a42.jpg',\n",
       " '00208c77-ee58-4b63-bc1a-b9b3aa4f1be0.jpg',\n",
       " '0028956e-9962-46f0-ad45-2c42f8a59d94.jpg',\n",
       " '002e88c2-e0ce-4a4b-9670-eddc3d99accc.jpg',\n",
       " '002eb5b8-6541-42a3-9596-0d94f7b866ae.jpg']"
      ]
     },
     "execution_count": 20,
     "metadata": {},
     "output_type": "execute_result"
    }
   ],
   "source": [
    "DIR = 'images'\n",
    "file_names = os.listdir(DIR)\n",
    "file_names[:10]"
   ]
  },
  {
   "cell_type": "code",
   "execution_count": 21,
   "metadata": {},
   "outputs": [
    {
     "data": {
      "text/html": [
       "<div>\n",
       "<style scoped>\n",
       "    .dataframe tbody tr th:only-of-type {\n",
       "        vertical-align: middle;\n",
       "    }\n",
       "\n",
       "    .dataframe tbody tr th {\n",
       "        vertical-align: top;\n",
       "    }\n",
       "\n",
       "    .dataframe thead th {\n",
       "        text-align: right;\n",
       "    }\n",
       "</style>\n",
       "<table border=\"1\" class=\"dataframe\">\n",
       "  <thead>\n",
       "    <tr style=\"text-align: right;\">\n",
       "      <th></th>\n",
       "      <th>image</th>\n",
       "      <th>sender_id</th>\n",
       "      <th>label</th>\n",
       "      <th>kids</th>\n",
       "    </tr>\n",
       "  </thead>\n",
       "  <tbody>\n",
       "    <tr>\n",
       "      <th>0</th>\n",
       "      <td>4285fab0-751a-4b74-8e9b-43af05deee22</td>\n",
       "      <td>124</td>\n",
       "      <td>Not sure</td>\n",
       "      <td>False</td>\n",
       "    </tr>\n",
       "    <tr>\n",
       "      <th>1</th>\n",
       "      <td>ea7b6656-3f84-4eb3-9099-23e623fc1018</td>\n",
       "      <td>148</td>\n",
       "      <td>T-Shirt</td>\n",
       "      <td>False</td>\n",
       "    </tr>\n",
       "    <tr>\n",
       "      <th>2</th>\n",
       "      <td>00627a3f-0477-401c-95eb-92642cbe078d</td>\n",
       "      <td>94</td>\n",
       "      <td>Not sure</td>\n",
       "      <td>False</td>\n",
       "    </tr>\n",
       "    <tr>\n",
       "      <th>3</th>\n",
       "      <td>ea2ffd4d-9b25-4ca8-9dc2-bd27f1cc59fa</td>\n",
       "      <td>43</td>\n",
       "      <td>T-Shirt</td>\n",
       "      <td>False</td>\n",
       "    </tr>\n",
       "    <tr>\n",
       "      <th>4</th>\n",
       "      <td>3b86d877-2b9e-4c8b-a6a2-1d87513309d0</td>\n",
       "      <td>189</td>\n",
       "      <td>Shoes</td>\n",
       "      <td>False</td>\n",
       "    </tr>\n",
       "  </tbody>\n",
       "</table>\n",
       "</div>"
      ],
      "text/plain": [
       "                                  image  sender_id     label   kids\n",
       "0  4285fab0-751a-4b74-8e9b-43af05deee22        124  Not sure  False\n",
       "1  ea7b6656-3f84-4eb3-9099-23e623fc1018        148   T-Shirt  False\n",
       "2  00627a3f-0477-401c-95eb-92642cbe078d         94  Not sure  False\n",
       "3  ea2ffd4d-9b25-4ca8-9dc2-bd27f1cc59fa         43   T-Shirt  False\n",
       "4  3b86d877-2b9e-4c8b-a6a2-1d87513309d0        189     Shoes  False"
      ]
     },
     "execution_count": 21,
     "metadata": {},
     "output_type": "execute_result"
    }
   ],
   "source": [
    "data = pd.read_csv('images.csv')\n",
    "data.head()"
   ]
  },
  {
   "cell_type": "code",
   "execution_count": 22,
   "metadata": {},
   "outputs": [
    {
     "data": {
      "text/html": [
       "<div>\n",
       "<style scoped>\n",
       "    .dataframe tbody tr th:only-of-type {\n",
       "        vertical-align: middle;\n",
       "    }\n",
       "\n",
       "    .dataframe tbody tr th {\n",
       "        vertical-align: top;\n",
       "    }\n",
       "\n",
       "    .dataframe thead th {\n",
       "        text-align: right;\n",
       "    }\n",
       "</style>\n",
       "<table border=\"1\" class=\"dataframe\">\n",
       "  <thead>\n",
       "    <tr style=\"text-align: right;\">\n",
       "      <th></th>\n",
       "      <th>image</th>\n",
       "      <th>label</th>\n",
       "    </tr>\n",
       "  </thead>\n",
       "  <tbody>\n",
       "    <tr>\n",
       "      <th>0</th>\n",
       "      <td>4285fab0-751a-4b74-8e9b-43af05deee22.jpg</td>\n",
       "      <td>Not sure</td>\n",
       "    </tr>\n",
       "    <tr>\n",
       "      <th>1</th>\n",
       "      <td>ea7b6656-3f84-4eb3-9099-23e623fc1018.jpg</td>\n",
       "      <td>T-Shirt</td>\n",
       "    </tr>\n",
       "    <tr>\n",
       "      <th>2</th>\n",
       "      <td>00627a3f-0477-401c-95eb-92642cbe078d.jpg</td>\n",
       "      <td>Not sure</td>\n",
       "    </tr>\n",
       "    <tr>\n",
       "      <th>3</th>\n",
       "      <td>ea2ffd4d-9b25-4ca8-9dc2-bd27f1cc59fa.jpg</td>\n",
       "      <td>T-Shirt</td>\n",
       "    </tr>\n",
       "    <tr>\n",
       "      <th>4</th>\n",
       "      <td>3b86d877-2b9e-4c8b-a6a2-1d87513309d0.jpg</td>\n",
       "      <td>Shoes</td>\n",
       "    </tr>\n",
       "  </tbody>\n",
       "</table>\n",
       "</div>"
      ],
      "text/plain": [
       "                                      image     label\n",
       "0  4285fab0-751a-4b74-8e9b-43af05deee22.jpg  Not sure\n",
       "1  ea7b6656-3f84-4eb3-9099-23e623fc1018.jpg   T-Shirt\n",
       "2  00627a3f-0477-401c-95eb-92642cbe078d.jpg  Not sure\n",
       "3  ea2ffd4d-9b25-4ca8-9dc2-bd27f1cc59fa.jpg   T-Shirt\n",
       "4  3b86d877-2b9e-4c8b-a6a2-1d87513309d0.jpg     Shoes"
      ]
     },
     "execution_count": 22,
     "metadata": {},
     "output_type": "execute_result"
    }
   ],
   "source": [
    "data['image'] = data['image']+'.jpg'\n",
    "data_1 = data[['image', 'label']]\n",
    "data_1.head()"
   ]
  },
  {
   "cell_type": "code",
   "execution_count": 23,
   "metadata": {},
   "outputs": [
    {
     "data": {
      "text/plain": [
       "0       4285fab0-751a-4b74-8e9b-43af05deee22.jpg\n",
       "1       ea7b6656-3f84-4eb3-9099-23e623fc1018.jpg\n",
       "2       00627a3f-0477-401c-95eb-92642cbe078d.jpg\n",
       "3       ea2ffd4d-9b25-4ca8-9dc2-bd27f1cc59fa.jpg\n",
       "4       3b86d877-2b9e-4c8b-a6a2-1d87513309d0.jpg\n",
       "                          ...                   \n",
       "5398    dfd4079d-967b-4b3e-8574-fbac11b58103.jpg\n",
       "5399    befa14be-8140-4faf-8061-1039947e329d.jpg\n",
       "5400    5379356a-40ee-4890-b416-2336a7d84061.jpg\n",
       "5401    65507fb8-3456-4c15-b53e-d1b03bf71a59.jpg\n",
       "5402    32b99302-cec7-4dec-adfa-3d4029674209.jpg\n",
       "Name: image, Length: 5403, dtype: object"
      ]
     },
     "execution_count": 23,
     "metadata": {},
     "output_type": "execute_result"
    }
   ],
   "source": [
    "data_1['image']"
   ]
  },
  {
   "cell_type": "markdown",
   "metadata": {},
   "source": [
    "### Remove corrupted images"
   ]
  },
  {
   "cell_type": "code",
   "execution_count": 24,
   "metadata": {},
   "outputs": [
    {
     "name": "stdout",
     "output_type": "stream",
     "text": [
      "images\\040d73b7-21b5-4cf2-84fc-e1a80231b202.jpg\n"
     ]
    },
    {
     "name": "stdout",
     "output_type": "stream",
     "text": [
      "images\\1d0129a1-f29a-4a3f-b103-f651176183eb.jpg\n",
      "images\\784d67d4-b95e-4abb-baf7-8024f18dc3c8.jpg\n",
      "images\\b72ed5cd-9f5f-49a7-b12e-63a078212a17.jpg\n",
      "images\\c60e486d-10ed-4f64-abab-5bb698c736dd.jpg\n",
      "images\\d028580f-9a98-4fb5-a6c9-5dc362ad3f09.jpg\n"
     ]
    }
   ],
   "source": [
    "path = Path(DIR).rglob(\"*.jpg\")\n",
    "for img_p in path:\n",
    "    try:\n",
    "        img = PIL.Image.open(img_p)\n",
    "    except PIL.UnidentifiedImageError:\n",
    "            print(img_p)"
   ]
  },
  {
   "cell_type": "code",
   "execution_count": 25,
   "metadata": {},
   "outputs": [],
   "source": [
    "corrupted = ['b72ed5cd-9f5f-49a7-b12e-63a078212a17.jpg', '1d0129a1-f29a-4a3f-b103-f651176183eb.jpg', 'c60e486d-10ed-4f64-abab-5bb698c736dd.jpg', \n",
    "            'd028580f-9a98-4fb5-a6c9-5dc362ad3f09.jpg', '040d73b7-21b5-4cf2-84fc-e1a80231b202.jpg', '784d67d4-b95e-4abb-baf7-8024f18dc3c8.jpg']\n",
    "\n",
    "data_1 = data_1.drop(data_1[data_1['image'].isin(corrupted)].index, axis=0)"
   ]
  },
  {
   "cell_type": "markdown",
   "metadata": {},
   "source": [
    "### Data Visualization"
   ]
  },
  {
   "cell_type": "code",
   "execution_count": 26,
   "metadata": {},
   "outputs": [
    {
     "data": {
      "image/png": "[encoded data removed]",
      "text/plain": [
       "<Figure size 640x480 with 1 Axes>"
      ]
     },
     "metadata": {},
     "output_type": "display_data"
    }
   ],
   "source": [
    "label_counts = data_1['label'].value_counts()\n",
    "\n",
    "# Plot a bar chart of the label distribution\n",
    "plt.bar(label_counts.index, label_counts.values)\n",
    "plt.xlabel('Labels')\n",
    "plt.ylabel('Count')\n",
    "plt.xticks(rotation=90)\n",
    "plt.title('Label Distribution')\n",
    "plt.show()"
   ]
  },
  {
   "cell_type": "code",
   "execution_count": 27,
   "metadata": {},
   "outputs": [
    {
     "name": "stdout",
     "output_type": "stream",
     "text": [
      "20\n"
     ]
    },
    {
     "data": {
      "text/plain": [
       "['Not sure',\n",
       " 'T-Shirt',\n",
       " 'Shoes',\n",
       " 'Shorts',\n",
       " 'Shirt',\n",
       " 'Pants',\n",
       " 'Skirt',\n",
       " 'Other',\n",
       " 'Top',\n",
       " 'Outwear',\n",
       " 'Dress',\n",
       " 'Body',\n",
       " 'Longsleeve',\n",
       " 'Undershirt',\n",
       " 'Hat',\n",
       " 'Polo',\n",
       " 'Blouse',\n",
       " 'Hoodie',\n",
       " 'Skip',\n",
       " 'Blazer']"
      ]
     },
     "execution_count": 27,
     "metadata": {},
     "output_type": "execute_result"
    }
   ],
   "source": [
    "class_names = list(data_1['label'].unique())\n",
    "print(len(class_names))\n",
    "class_names"
   ]
  },
  {
   "cell_type": "code",
   "execution_count": 28,
   "metadata": {},
   "outputs": [
    {
     "name": "stdout",
     "output_type": "stream",
     "text": [
      "16\n"
     ]
    },
    {
     "data": {
      "text/plain": [
       "['T-Shirt',\n",
       " 'Shoes',\n",
       " 'Shorts',\n",
       " 'Shirt',\n",
       " 'Pants',\n",
       " 'Skirt',\n",
       " 'Top',\n",
       " 'Outwear',\n",
       " 'Dress',\n",
       " 'Body',\n",
       " 'Longsleeve',\n",
       " 'Undershirt',\n",
       " 'Hat',\n",
       " 'Polo',\n",
       " 'Hoodie',\n",
       " 'Blazer']"
      ]
     },
     "execution_count": 28,
     "metadata": {},
     "output_type": "execute_result"
    }
   ],
   "source": [
    "labels_to_remove = ['Skip', 'Not sure', 'Other', 'Blouse']\n",
    "data_1 = data_1[~data_1['label'].isin(labels_to_remove)]\n",
    "class_names = list(data_1['label'].unique())\n",
    "print(len(class_names))\n",
    "class_names"
   ]
  },
  {
   "cell_type": "code",
   "execution_count": 29,
   "metadata": {},
   "outputs": [
    {
     "data": {
      "image/png": "[encoded data removed]",
      "text/plain": [
       "<Figure size 640x480 with 1 Axes>"
      ]
     },
     "metadata": {},
     "output_type": "display_data"
    }
   ],
   "source": [
    "label_counts = data_1['label'].value_counts()\n",
    "\n",
    "# Plot a bar chart of the label distribution\n",
    "plt.bar(label_counts.index, label_counts.values)\n",
    "plt.xlabel('Labels')\n",
    "plt.ylabel('Count')\n",
    "plt.xticks(rotation=90)\n",
    "plt.title('Label Distribution')\n",
    "plt.show()"
   ]
  }
 ],
 "metadata": {
  "kernelspec": {
   "display_name": "Python 3",
   "language": "python",
   "name": "python3"
  },
  "language_info": {
   "codemirror_mode": {
    "name": "ipython",
    "version": 3
   },
   "file_extension": ".py",
   "mimetype": "text/x-python",
   "name": "python",
   "nbconvert_exporter": "python",
   "pygments_lexer": "ipython3",
   "version": "3.11.6"
  }
 },
 "nbformat": 4,
 "nbformat_minor": 2
}
